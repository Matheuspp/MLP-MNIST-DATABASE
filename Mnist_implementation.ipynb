{
 "cells": [
  {
   "cell_type": "markdown",
   "metadata": {
    "colab": {
     "base_uri": "https://localhost:8080/",
     "height": 127
    },
    "colab_type": "code",
    "executionInfo": {
     "elapsed": 44700,
     "status": "ok",
     "timestamp": 1547993791544,
     "user": {
      "displayName": "Matheus Vieira da Silva",
      "photoUrl": "https://lh5.googleusercontent.com/-Kd1tydxQt1s/AAAAAAAAAAI/AAAAAAAADWk/WRh7-cSljUM/s64/photo.jpg",
      "userId": "13448694615255202756"
     },
     "user_tz": 120
    },
    "id": "fEJtaqD7NsXc",
    "outputId": "7e608fef-42af-42c7-92d2-7f5aa08d36dd"
   },
   "source": [
    "## A MNIST dataset classifier using a multilayer perceptron."
   ]
  },
  {
   "cell_type": "markdown",
   "metadata": {
    "colab": {
     "base_uri": "https://localhost:8080/",
     "height": 397
    },
    "colab_type": "code",
    "executionInfo": {
     "elapsed": 106277,
     "status": "ok",
     "timestamp": 1547993853150,
     "user": {
      "displayName": "Matheus Vieira da Silva",
      "photoUrl": "https://lh5.googleusercontent.com/-Kd1tydxQt1s/AAAAAAAAAAI/AAAAAAAADWk/WRh7-cSljUM/s64/photo.jpg",
      "userId": "13448694615255202756"
     },
     "user_tz": 120
    },
    "id": "2FzjHl_QOvPP",
    "outputId": "87db6a22-c766-40a0-bc8d-d378bfc90a7f"
   },
   "source": [
    "In this notebook, i'll try to classify handwriting digits using a multilayer perceptron. The structure consists of input, hidden and output layers with activation functions, i will be using the pytorch framework. The torch module have a lot of useful tools that we can use for this task. To make things easier, the torchvision module will provide datasets, wich already have the MNIST dataset as default, and transforms, for data transformations. Make sure that you have all the libraries needed."
   ]
  },
  {
   "cell_type": "code",
   "execution_count": 1,
   "metadata": {
    "colab": {},
    "colab_type": "code",
    "id": "lU4tBVtKO-5p"
   },
   "outputs": [],
   "source": [
    "# importing libraries \n",
    "%matplotlib inline\n",
    "import numpy as np\n",
    "import matplotlib.pyplot as plt\n",
    "import torch\n",
    "import torch.nn.functional as F\n",
    "from torch import nn, optim\n",
    "from torch.utils.data.sampler import SubsetRandomSampler\n",
    "from torchvision import datasets, transforms"
   ]
  },
  {
   "cell_type": "code",
   "execution_count": 2,
   "metadata": {
    "colab": {},
    "colab_type": "code",
    "id": "pMIwf4XdQu_7"
   },
   "outputs": [],
   "source": [
    "#  spliting train and test transformations\n",
    "train_transform = transforms.Compose([transforms.RandomRotation(10),\n",
    "                                      transforms.ToTensor(),\n",
    "                                      transforms.Normalize((0.5,0.5,0.5), (0.5,0.5,0.5))\n",
    "                                      ])\n",
    "test_transform = transforms.Compose([transforms.ToTensor(),\n",
    "                                     transforms.Normalize((0.5,0.5,0.5), (0.5,0.5,0.5))])"
   ]
  },
  {
   "cell_type": "code",
   "execution_count": 3,
   "metadata": {
    "colab": {},
    "colab_type": "code",
    "id": "AmmbPmGSR7fq"
   },
   "outputs": [],
   "source": [
    "# Downloading the data\n",
    "train_set = datasets.MNIST(root='data', train=True, download=True, transform=train_transform)\n",
    "test_set = datasets.MNIST(root='data', train=False, download=True, transform=test_transform)"
   ]
  },
  {
   "cell_type": "code",
   "execution_count": 4,
   "metadata": {
    "colab": {
     "base_uri": "https://localhost:8080/",
     "height": 179
    },
    "colab_type": "code",
    "executionInfo": {
     "elapsed": 956,
     "status": "ok",
     "timestamp": 1548005016856,
     "user": {
      "displayName": "Matheus Vieira da Silva",
      "photoUrl": "https://lh5.googleusercontent.com/-Kd1tydxQt1s/AAAAAAAAAAI/AAAAAAAADWk/WRh7-cSljUM/s64/photo.jpg",
      "userId": "13448694615255202756"
     },
     "user_tz": 120
    },
    "id": "6ypCEr2KSo69",
    "outputId": "b427236c-0a42-40c7-81b6-c179bea276f1"
   },
   "outputs": [
    {
     "data": {
      "text/plain": [
       "Dataset MNIST\n",
       "    Number of datapoints: 60000\n",
       "    Split: train\n",
       "    Root Location: data\n",
       "    Transforms (if any): Compose(\n",
       "                             RandomRotation(degrees=(-10, 10), resample=False, expand=False)\n",
       "                             ToTensor()\n",
       "                             Normalize(mean=(0.5, 0.5, 0.5), std=(0.5, 0.5, 0.5))\n",
       "                         )\n",
       "    Target Transforms (if any): None"
      ]
     },
     "execution_count": 4,
     "metadata": {},
     "output_type": "execute_result"
    }
   ],
   "source": [
    "train_set # getting some information of the train_set"
   ]
  },
  {
   "cell_type": "code",
   "execution_count": 5,
   "metadata": {
    "colab": {
     "base_uri": "https://localhost:8080/",
     "height": 125
    },
    "colab_type": "code",
    "executionInfo": {
     "elapsed": 1060,
     "status": "ok",
     "timestamp": 1548005017210,
     "user": {
      "displayName": "Matheus Vieira da Silva",
      "photoUrl": "https://lh5.googleusercontent.com/-Kd1tydxQt1s/AAAAAAAAAAI/AAAAAAAADWk/WRh7-cSljUM/s64/photo.jpg",
      "userId": "13448694615255202756"
     },
     "user_tz": 120
    },
    "id": "776Wob5yS8e-",
    "outputId": "566a8173-361b-4065-f92e-90ee5d7fa9ae"
   },
   "outputs": [],
   "source": [
    "# A wise thing to do is leave 20% of the dataset for validation, that helps to avoid overfitting."
   ]
  },
  {
   "cell_type": "code",
   "execution_count": 6,
   "metadata": {
    "colab": {},
    "colab_type": "code",
    "id": "UqOh0CFcVWm6"
   },
   "outputs": [],
   "source": [
    "batch_size = 64\n",
    "valid_size = 0.20"
   ]
  },
  {
   "cell_type": "code",
   "execution_count": 7,
   "metadata": {
    "colab": {},
    "colab_type": "code",
    "id": "JhGVC-3nWeE8"
   },
   "outputs": [],
   "source": [
    " # preparing the validation set\n",
    "data_points = len(train_set)\n",
    "indices = list(range(data_points))\n",
    "np.random.shuffle(indices)\n",
    "split = int(np.floor(valid_size*data_points))\n",
    "train_idx, valid_idx = indices[split:], indices[:split]"
   ]
  },
  {
   "cell_type": "code",
   "execution_count": 8,
   "metadata": {
    "colab": {},
    "colab_type": "code",
    "id": "WM6-0sh6YHzI"
   },
   "outputs": [],
   "source": [
    "train_sampler = SubsetRandomSampler(train_idx)\n",
    "valid_sampler = SubsetRandomSampler(valid_idx)"
   ]
  },
  {
   "cell_type": "code",
   "execution_count": 9,
   "metadata": {
    "colab": {},
    "colab_type": "code",
    "id": "_uxlRnogYuq1"
   },
   "outputs": [],
   "source": [
    "train_loader = torch.utils.data.DataLoader(train_set, sampler=train_sampler, batch_size=batch_size)\n",
    "valid_loader = torch.utils.data.DataLoader(train_set, sampler=valid_sampler, batch_size=batch_size)\n",
    "test_loader  = torch.utils.data.DataLoader(test_set, batch_size=batch_size, shuffle=True)"
   ]
  },
  {
   "cell_type": "code",
   "execution_count": 10,
   "metadata": {},
   "outputs": [],
   "source": [
    "# taking just one batch to get useful info\n",
    "images, labels = next(iter(train_loader))"
   ]
  },
  {
   "cell_type": "code",
   "execution_count": 11,
   "metadata": {},
   "outputs": [
    {
     "data": {
      "text/plain": [
       "torch.Size([64, 1, 28, 28])"
      ]
     },
     "execution_count": 11,
     "metadata": {},
     "output_type": "execute_result"
    }
   ],
   "source": [
    "# checking the shape of the tensor\n",
    "images.shape"
   ]
  },
  {
   "cell_type": "code",
   "execution_count": 12,
   "metadata": {},
   "outputs": [
    {
     "data": {
      "text/plain": [
       "<matplotlib.image.AxesImage at 0x7f9db87432b0>"
      ]
     },
     "execution_count": 12,
     "metadata": {},
     "output_type": "execute_result"
    },
    {
     "data": {
      "image/png": "[encoded data removed]",
      "text/plain": [
       "<Figure size 432x288 with 1 Axes>"
      ]
     },
     "metadata": {
      "needs_background": "light"
     },
     "output_type": "display_data"
    }
   ],
   "source": [
    "#visualise one image\n",
    "plt.imshow(np.squeeze(images[3].numpy()), cmap='gray')"
   ]
  },
  {
   "cell_type": "code",
   "execution_count": 13,
   "metadata": {
    "colab": {},
    "colab_type": "code",
    "id": "SC6n0UJVb3LK"
   },
   "outputs": [],
   "source": [
    "# defining the network architecture\n",
    "class Network(nn.Module):\n",
    "    def __init__(self):\n",
    "        super().__init__()\n",
    "        self.fc1 = nn.Linear(28 * 28, 684) # input\n",
    "        self.fc2 = nn.Linear(684, 526)     # hidden\n",
    "        self.fc3 = nn.Linear(526, 10)      # output\n",
    "    \n",
    "        # dropout can help avoid overfitting 'turning off' some units\n",
    "        # during the training\n",
    "    \n",
    "        self.dropout = nn.Dropout(p=0.25)\n",
    "    \n",
    "    def forward(self, x):\n",
    "    \n",
    "        # making sure that our image has the right dimentions\n",
    "        x = x.view(-1, 28*28)\n",
    "    \n",
    "        x = self.dropout(F.relu(self.fc1(x)))\n",
    "        x = self.dropout(F.relu(self.fc2(x)))\n",
    "        x = F.log_softmax(self.fc3(x), dim=1)\n",
    "    \n",
    "        return x"
   ]
  },
  {
   "cell_type": "code",
   "execution_count": 14,
   "metadata": {
    "colab": {},
    "colab_type": "code",
    "id": "mDIsFGypiqpt"
   },
   "outputs": [],
   "source": [
    "# creating the model, defining loss function and optimizer\n",
    "model = Network()\n",
    "criterion = nn.NLLLoss()\n",
    "optimizer = optim.SGD(model.parameters(), lr=0.01)"
   ]
  },
  {
   "cell_type": "code",
   "execution_count": 15,
   "metadata": {},
   "outputs": [
    {
     "name": "stdout",
     "output_type": "stream",
     "text": [
      "Network(\n",
      "  (fc1): Linear(in_features=784, out_features=684, bias=True)\n",
      "  (fc2): Linear(in_features=684, out_features=526, bias=True)\n",
      "  (fc3): Linear(in_features=526, out_features=10, bias=True)\n",
      "  (dropout): Dropout(p=0.25)\n",
      ")\n"
     ]
    }
   ],
   "source": [
    "# printing information of the model created\n",
    "print(model)"
   ]
  },
  {
   "cell_type": "markdown",
   "metadata": {},
   "source": [
    "## Training the model using backpropagation."
   ]
  },
  {
   "cell_type": "code",
   "execution_count": 16,
   "metadata": {
    "colab": {
     "base_uri": "https://localhost:8080/",
     "height": 611
    },
    "colab_type": "code",
    "executionInfo": {
     "elapsed": 1013183,
     "status": "ok",
     "timestamp": 1548006080296,
     "user": {
      "displayName": "Matheus Vieira da Silva",
      "photoUrl": "https://lh5.googleusercontent.com/-Kd1tydxQt1s/AAAAAAAAAAI/AAAAAAAADWk/WRh7-cSljUM/s64/photo.jpg",
      "userId": "13448694615255202756"
     },
     "user_tz": 120
    },
    "id": "-peZoEEJiyuf",
    "outputId": "0fcd6f78-79ef-41ea-dc9f-35e3bac1495d"
   },
   "outputs": [
    {
     "name": "stdout",
     "output_type": "stream",
     "text": [
      "epoch: 1 \t train_loss: 0.8877757 \t valid_loss: 0.0987875\n",
      "saving model ...\t\n",
      "epoch: 2 \t train_loss: 0.3752901 \t valid_loss: 0.0765698\n",
      "saving model ...\t\n",
      "epoch: 3 \t train_loss: 0.3125709 \t valid_loss: 0.0676745\n",
      "saving model ...\t\n",
      "epoch: 4 \t train_loss: 0.2783910 \t valid_loss: 0.0624584\n",
      "saving model ...\t\n",
      "epoch: 5 \t train_loss: 0.2489131 \t valid_loss: 0.0567421\n",
      "saving model ...\t\n",
      "epoch: 6 \t train_loss: 0.2290469 \t valid_loss: 0.0518274\n",
      "saving model ...\t\n",
      "epoch: 7 \t train_loss: 0.2086432 \t valid_loss: 0.0476729\n",
      "saving model ...\t\n",
      "epoch: 8 \t train_loss: 0.1963851 \t valid_loss: 0.0449959\n",
      "saving model ...\t\n",
      "epoch: 9 \t train_loss: 0.1815124 \t valid_loss: 0.0414227\n",
      "saving model ...\t\n",
      "epoch: 10 \t train_loss: 0.1675451 \t valid_loss: 0.0395354\n",
      "saving model ...\t\n",
      "epoch: 11 \t train_loss: 0.1575414 \t valid_loss: 0.0369016\n",
      "saving model ...\t\n",
      "epoch: 12 \t train_loss: 0.1492893 \t valid_loss: 0.0345962\n",
      "saving model ...\t\n",
      "epoch: 13 \t train_loss: 0.1392511 \t valid_loss: 0.0330692\n",
      "saving model ...\t\n",
      "epoch: 14 \t train_loss: 0.1341601 \t valid_loss: 0.0314739\n",
      "saving model ...\t\n",
      "epoch: 15 \t train_loss: 0.1293805 \t valid_loss: 0.0302346\n",
      "saving model ...\t\n",
      "epoch: 16 \t train_loss: 0.1235111 \t valid_loss: 0.0287856\n",
      "saving model ...\t\n",
      "epoch: 17 \t train_loss: 0.1180882 \t valid_loss: 0.0281793\n",
      "saving model ...\t\n",
      "epoch: 18 \t train_loss: 0.1137090 \t valid_loss: 0.0269176\n",
      "saving model ...\t\n",
      "epoch: 19 \t train_loss: 0.1071787 \t valid_loss: 0.0262023\n",
      "saving model ...\t\n",
      "epoch: 20 \t train_loss: 0.1040379 \t valid_loss: 0.0254776\n",
      "saving model ...\t\n",
      "epoch: 21 \t train_loss: 0.1019206 \t valid_loss: 0.0244076\n",
      "saving model ...\t\n",
      "epoch: 22 \t train_loss: 0.0964714 \t valid_loss: 0.0240182\n",
      "saving model ...\t\n",
      "epoch: 23 \t train_loss: 0.0939771 \t valid_loss: 0.0240389\n",
      "epoch: 24 \t train_loss: 0.0924558 \t valid_loss: 0.0226362\n",
      "saving model ...\t\n",
      "epoch: 25 \t train_loss: 0.0893352 \t valid_loss: 0.0216383\n",
      "saving model ...\t\n",
      "epoch: 26 \t train_loss: 0.0866842 \t valid_loss: 0.0219870\n",
      "epoch: 27 \t train_loss: 0.0834877 \t valid_loss: 0.0215848\n",
      "saving model ...\t\n",
      "epoch: 28 \t train_loss: 0.0803127 \t valid_loss: 0.0212036\n",
      "saving model ...\t\n",
      "epoch: 29 \t train_loss: 0.0793164 \t valid_loss: 0.0203878\n",
      "saving model ...\t\n",
      "epoch: 30 \t train_loss: 0.0784350 \t valid_loss: 0.0205280\n",
      "epoch: 31 \t train_loss: 0.0754913 \t valid_loss: 0.0200427\n",
      "saving model ...\t\n",
      "epoch: 32 \t train_loss: 0.0730958 \t valid_loss: 0.0196607\n",
      "saving model ...\t\n",
      "epoch: 33 \t train_loss: 0.0720968 \t valid_loss: 0.0189487\n",
      "saving model ...\t\n",
      "epoch: 34 \t train_loss: 0.0712159 \t valid_loss: 0.0187465\n",
      "saving model ...\t\n",
      "epoch: 35 \t train_loss: 0.0684623 \t valid_loss: 0.0176230\n",
      "saving model ...\t\n",
      "epoch: 36 \t train_loss: 0.0663903 \t valid_loss: 0.0181525\n",
      "epoch: 37 \t train_loss: 0.0660187 \t valid_loss: 0.0178781\n",
      "epoch: 38 \t train_loss: 0.0647233 \t valid_loss: 0.0174773\n",
      "saving model ...\t\n",
      "epoch: 39 \t train_loss: 0.0642112 \t valid_loss: 0.0180168\n",
      "epoch: 40 \t train_loss: 0.0608934 \t valid_loss: 0.0172177\n",
      "saving model ...\t\n"
     ]
    }
   ],
   "source": [
    "epochs = 40\n",
    "valid_loss_min = np.inf\n",
    "\n",
    "val, train = [], [] # save the train and validation losses to plot\n",
    "for ep in range(epochs):\n",
    "    valid_loss = 0.0\n",
    "    train_loss = 0.0\n",
    "  \n",
    "    model.train() # model on train mode\n",
    "    for data, target in train_loader:\n",
    "        optimizer.zero_grad()\n",
    "    \n",
    "        output = model(data)\n",
    "    \n",
    "        loss = criterion(output, target)\n",
    "        loss.backward()\n",
    "        optimizer.step()\n",
    "    \n",
    "        train_loss += loss.item()*data.size(0)\n",
    "    \n",
    "    model.eval() # validation mode\n",
    "    for data, target in valid_loader:\n",
    "   \n",
    "        out = model(data)\n",
    "    \n",
    "        loss = criterion(out, target)\n",
    "    \n",
    "        valid_loss += loss.item()*data.size(0)\n",
    "    \n",
    "    train_loss = train_loss/len(train_loader.dataset)\n",
    "    valid_loss = valid_loss/len(valid_loader.dataset)\n",
    "  \n",
    "    train.append(train_loss)\n",
    "    val.append(valid_loss)\n",
    "  \n",
    "    print('epoch: {} \\t train_loss: {:.7f} \\t valid_loss: {:.7f}'.format(ep+1, train_loss, valid_loss))\n",
    "  \n",
    "    if(valid_loss <= valid_loss_min):\n",
    "        print('saving model ...\\t')\n",
    "        torch.save(model.state_dict(), 'Modelo_MNIST.pt')# saving the model with the best validation loss\n",
    "    \n",
    "        valid_loss_min = valid_loss"
   ]
  },
  {
   "cell_type": "code",
   "execution_count": 17,
   "metadata": {
    "colab": {},
    "colab_type": "code",
    "id": "6i4vfJbdi_H0"
   },
   "outputs": [],
   "source": [
    "# this  function will calculate the accuracy of the  model\n",
    "def accuracy(model, testloader):\n",
    "    test_loss = 0.0\n",
    "    correct_classes = list(np.zeros(10))\n",
    "    all_classes = list(np.zeros(10))\n",
    "    \n",
    "    model.eval()\n",
    "    for data, target in testloader:\n",
    "        output = model(data)\n",
    "        loss = criterion(output, target)\n",
    "    \n",
    "        test_loss += loss.item()*data.size(0)\n",
    "    \n",
    "        prediction = torch.max(output, 1)[1]\n",
    "        correct = prediction == target\n",
    "    \n",
    "    for i in range(target.shape[0]):\n",
    "        label = target.data[i]\n",
    "        correct_classes[label] += correct[i].item()\n",
    "        all_classes[label] += 1\n",
    "     \n",
    "    test_loss = test_loss / len(testloader.dataset)\n",
    "    print('test_loss : {:.6f}'.format(test_loss))\n",
    "    \n",
    "  \n",
    "     \n",
    "    print('total accuracy : {:.2f}'.format(np.sum(correct_classes) / np.sum(all_classes)))\n",
    "  "
   ]
  },
  {
   "cell_type": "code",
   "execution_count": null,
   "metadata": {
    "colab": {},
    "colab_type": "code",
    "id": "JzTfBHKBNnPP"
   },
   "outputs": [],
   "source": []
  },
  {
   "cell_type": "code",
   "execution_count": 18,
   "metadata": {
    "colab": {},
    "colab_type": "code",
    "id": "4cUl9u2IvBQb"
   },
   "outputs": [],
   "source": [
    "# visualise some predictions\n",
    "def view(model, testloader):\n",
    "    images, labels = next(iter(testloader))\n",
    "    out = model(images)\n",
    "    pred = torch.max(out, 1)[1]\n",
    "  \n",
    "    images = images.numpy()\n",
    "  \n",
    "    fig = plt.figure(figsize=(25,4))\n",
    "    for idx in np.arange(20):\n",
    "        ax = fig.add_subplot(2, 20/2, idx+1, xticks=[], yticks=[])\n",
    "        ax.imshow(np.squeeze(images[idx]), cmap='gray')\n",
    "        ax.set_title('it is a : {}'.format(pred[idx].item()))"
   ]
  },
  {
   "cell_type": "code",
   "execution_count": 19,
   "metadata": {
    "colab": {
     "base_uri": "https://localhost:8080/",
     "height": 310
    },
    "colab_type": "code",
    "executionInfo": {
     "elapsed": 1601,
     "status": "ok",
     "timestamp": 1548006347272,
     "user": {
      "displayName": "Matheus Vieira da Silva",
      "photoUrl": "https://lh5.googleusercontent.com/-Kd1tydxQt1s/AAAAAAAAAAI/AAAAAAAADWk/WRh7-cSljUM/s64/photo.jpg",
      "userId": "13448694615255202756"
     },
     "user_tz": 120
    },
    "id": "DQaCzjUwvD-n",
    "outputId": "b0a33e11-f68d-4b67-83d4-e0c972c9527d"
   },
   "outputs": [
    {
     "data": {
      "text/plain": [
       "Text(0.5, 1.0, 'train and validation')"
      ]
     },
     "execution_count": 19,
     "metadata": {},
     "output_type": "execute_result"
    },
    {
     "data": {
      "image/png": "[encoded data removed]",
      "text/plain": [
       "<Figure size 1440x720 with 3 Axes>"
      ]
     },
     "metadata": {
      "needs_background": "light"
     },
     "output_type": "display_data"
    }
   ],
   "source": [
    "fig = plt.figure(figsize=(20,10))\n",
    "ax = fig.add_subplot(221)\n",
    "ax.plot(train)\n",
    "ax.set_title('train loss');\n",
    "ax = fig.add_subplot(222)\n",
    "ax.plot(val,'r')\n",
    "ax.set_title('validation loss',);\n",
    "ax = fig.add_subplot(223)\n",
    "ax.plot(train, 'b')\n",
    "ax.plot(val, 'r')\n",
    "ax.set_title('train and validation')\n",
    "\n",
    "\n",
    "\n"
   ]
  },
  {
   "cell_type": "code",
   "execution_count": 20,
   "metadata": {
    "colab": {
     "base_uri": "https://localhost:8080/",
     "height": 283
    },
    "colab_type": "code",
    "executionInfo": {
     "elapsed": 2061,
     "status": "ok",
     "timestamp": 1548006348246,
     "user": {
      "displayName": "Matheus Vieira da Silva",
      "photoUrl": "https://lh5.googleusercontent.com/-Kd1tydxQt1s/AAAAAAAAAAI/AAAAAAAADWk/WRh7-cSljUM/s64/photo.jpg",
      "userId": "13448694615255202756"
     },
     "user_tz": 120
    },
    "id": "sqsSARRlKh3O",
    "outputId": "f36904a2-29fc-47c7-cdba-f1f11814aa12"
   },
   "outputs": [
    {
     "data": {
      "image/png": "[encoded data removed]",
      "text/plain": [
       "<Figure size 1800x288 with 20 Axes>"
      ]
     },
     "metadata": {},
     "output_type": "display_data"
    }
   ],
   "source": [
    "view(model, test_loader)"
   ]
  },
  {
   "cell_type": "code",
   "execution_count": 21,
   "metadata": {
    "colab": {
     "base_uri": "https://localhost:8080/",
     "height": 233
    },
    "colab_type": "code",
    "executionInfo": {
     "elapsed": 2529,
     "status": "ok",
     "timestamp": 1548006357498,
     "user": {
      "displayName": "Matheus Vieira da Silva",
      "photoUrl": "https://lh5.googleusercontent.com/-Kd1tydxQt1s/AAAAAAAAAAI/AAAAAAAADWk/WRh7-cSljUM/s64/photo.jpg",
      "userId": "13448694615255202756"
     },
     "user_tz": 120
    },
    "id": "XdpxXnJZSKwo",
    "outputId": "b3c79b08-5da8-4113-efcb-5e4444472022"
   },
   "outputs": [
    {
     "name": "stdout",
     "output_type": "stream",
     "text": [
      "test_loss : 0.063399\n",
      "total accuracy : 0.94\n"
     ]
    }
   ],
   "source": [
    "accuracy(model, test_loader)"
   ]
  },
  {
   "cell_type": "code",
   "execution_count": null,
   "metadata": {
    "colab": {},
    "colab_type": "code",
    "id": "YUoTMrpoSQys"
   },
   "outputs": [],
   "source": []
  }
 ],
 "metadata": {
  "accelerator": "GPU",
  "colab": {
   "name": "Mnist_supreme.ipynb",
   "provenance": [],
   "version": "0.3.2"
  },
  "kernelspec": {
   "display_name": "Python 3",
   "language": "python",
   "name": "python3"
  },
  "language_info": {
   "codemirror_mode": {
    "name": "ipython",
    "version": 3
   },
   "file_extension": ".py",
   "mimetype": "text/x-python",
   "name": "python",
   "nbconvert_exporter": "python",
   "pygments_lexer": "ipython3",
   "version": "3.6.7"
  }
 },
 "nbformat": 4,
 "nbformat_minor": 1
}
